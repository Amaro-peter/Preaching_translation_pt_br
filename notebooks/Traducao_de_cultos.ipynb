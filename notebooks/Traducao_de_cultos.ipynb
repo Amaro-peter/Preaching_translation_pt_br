{
  "nbformat": 4,
  "nbformat_minor": 0,
  "metadata": {
    "colab": {
      "provenance": []
    },
    "kernelspec": {
      "name": "python3",
      "display_name": "Python 3"
    },
    "language_info": {
      "name": "python"
    }
  },
  "cells": [
    {
      "cell_type": "markdown",
      "source": [
        "#Contexto:\n",
        "\n",
        "1.   Missionária me pediu para traduzir vídeo de pregações pois ela não sabe falar em inglês.    \n",
        "2.   Seria melhor se pudéssemos gerar um áudio final em português e não apenas o texto.\n",
        "3.   Utilizar este desafio como um projeto de codigo aberto, de tempo reduzido de execução e para treinar membros da FTSP em como usar o Git, Python, APIs da OpenAI.\n",
        "4.   Faremos o MVP: JV e EGSF\n",
        "5.   Faremos no Google Colab até termos uma versão funcionando e então migraremos para o Github em códigos python melhor formatados"
      ],
      "metadata": {
        "id": "aLUd2muMZI-E"
      }
    },
    {
      "cell_type": "markdown",
      "source": [
        "#Escopo:\n",
        "\n",
        "Abaixo um plano de como resolver esse desafio.    \n",
        "V1:\n",
        "1.   Usuário fornece uma URL de um vídeo no youtube\n",
        "2.   Obtemos a transcrição via Python e API do youtube\n",
        "3.   Traduzimos a transcrição de inglês para português\n",
        "4.   Usar o Whisper para gerar a fala em português\n",
        "5.   Gerar um vídeo com este MP3 da narração e hospedar no Youtube.   \n",
        "\n",
        "V2:\n",
        "1.   Se o vídeo não possuir transcrição no Youtube então converter via Whisper ou similar\n",
        "2.   Se o video possuir transcrição em pt-br então pular a etapa da transcrição\n",
        "3.   Verificar como incluir os timestamps de pausa da fala e outros momentos de silencio."
      ],
      "metadata": {
        "id": "OQsVjRl58VO8"
      }
    },
    {
      "cell_type": "markdown",
      "source": [
        "# V1 - Conclusão em:"
      ],
      "metadata": {
        "id": "r1YB6StB8dXW"
      }
    },
    {
      "cell_type": "code",
      "execution_count": null,
      "metadata": {
        "id": "02FDWERG8OWo",
        "cellView": "form"
      },
      "outputs": [],
      "source": [
        "#@title A) Instalando biliotecas\n",
        "#@markdown #### <- Aqui basta clicar no play.\n",
        "%%capture\n",
        "\n",
        "%pip install --upgrade openai youtube_transcript_api torch opencv-python numpy pytube moviepy"
      ]
    },
    {
      "cell_type": "code",
      "source": [
        "#@title B) Codigo principal\n",
        "\n",
        "#@markdown <- Aqui carregamos o codigo principal. Basta clicar no play tambem.\n",
        "\n",
        "# Carregando as bibliotecas\n",
        "import openai\n",
        "import urllib.request\n",
        "import ipywidgets as widgets\n",
        "from IPython.display import display\n",
        "from youtube_transcript_api import YouTubeTranscriptApi\n",
        "\n",
        "\n",
        "# Inserindo a chave que pode ser obtida no site da OpenAI\n",
        "openai.api_key=\"\"\n",
        "\n",
        "# Criando o logo\n",
        "url_do_logo = 'https://miro.medium.com/v2/resize:fit:2400/1*uHUzyOD9SHQCJGAS0enxzQ.jpeg'\n",
        "logo = widgets.Image(\n",
        "    value=urllib.request.urlopen(url_do_logo).read(),\n",
        "    format='png',\n",
        "    width=150,\n",
        "    height=100,\n",
        ")\n",
        "\n",
        "# Cria a caixa para inserir o link do video\n",
        "link_box = widgets.Text(\n",
        "    value='',\n",
        "    placeholder='Cole aqui o link do vídeo',\n",
        "    description='Link:',\n",
        "    disabled=False\n",
        ")\n",
        "\n",
        "# Criando a caixa de texto para a legenda\n",
        "legenda_box = widgets.Textarea(\n",
        "    placeholder='Legenda do vídeo',\n",
        "    description='Legenda:',\n",
        "    disabled=True,\n",
        "    layout=widgets.Layout(width='100%', height='300px')\n",
        ")\n",
        "\n",
        "def obter_legenda(link):\n",
        "    video_id = link.split(\"v=\")[1]\n",
        "    video_list = YouTubeTranscriptApi.list_transcripts(video_id)\n",
        "    video_info = video_list.find_generated_transcript(['pt'])\n",
        "    video_info = video_info.fetch()\n",
        "\n",
        "    # Calcula a duração total do vídeo em minutos\n",
        "    duracao_total = video_info[-1][\"start\"] - video_info[0][\"start\"]\n",
        "    duracao_minutos = duracao_total // 60\n",
        "\n",
        "    return video_info\n",
        "\n",
        " legenda_box = obter_legenda(link_box.value)"
      ],
      "metadata": {
        "cellView": "form",
        "id": "OlmDw8JjpjG3"
      },
      "execution_count": null,
      "outputs": []
    },
    {
      "cell_type": "code",
      "source": [
        "#@title C) Obter transcrição em pt-br e exibir a interface do usuário\n",
        "#@markdown #### Aqui basta clicar no play, inserir o endereço o video na caixa .\n",
        "\n",
        "display(logo)\n",
        "display(link_box)\n",
        "display(legenda_box)"
      ],
      "metadata": {
        "cellView": "form",
        "id": "YMIFgSZQo_Qs"
      },
      "execution_count": null,
      "outputs": []
    },
    {
      "cell_type": "code",
      "source": [
        "#@title D) Gerar o audio em português\n",
        "#@markdown #### Aqui ainda por fazer.\n",
        "\n",
        "#teste"
      ],
      "metadata": {
        "cellView": "form",
        "id": "rxkRQEGAsh6O"
      },
      "execution_count": null,
      "outputs": []
    },
    {
      "cell_type": "code",
      "source": [
        "#@title E) Salvar o audio como um mp4\n",
        "#@markdown #### Aqui ainda por fazer.\n",
        "\n",
        "#teste"
      ],
      "metadata": {
        "cellView": "form",
        "id": "MuAnINEbszX7"
      },
      "execution_count": null,
      "outputs": []
    },
    {
      "cell_type": "code",
      "source": [
        "#@title F) Fazer o upload em uma conta do youtube\n",
        "#@markdown #### Aqui ainda por fazer.\n",
        "\n",
        "#teste"
      ],
      "metadata": {
        "cellView": "form",
        "id": "Eecge6T-tD7Z"
      },
      "execution_count": null,
      "outputs": []
    }
  ]
}